{
  "nbformat": 4,
  "nbformat_minor": 0,
  "metadata": {
    "colab": {
      "name": "Copy of run_MonocularDepth.ipynb",
      "provenance": [],
      "collapsed_sections": []
    },
    "kernelspec": {
      "name": "python3",
      "display_name": "Python 3"
    },
    "language_info": {
      "name": "python"
    },
    "accelerator": "GPU",
    "widgets": {
      "application/vnd.jupyter.widget-state+json": {
        "af6bcc47bcc544d09a17bc1ed50bf28d": {
          "model_module": "@jupyter-widgets/controls",
          "model_name": "HBoxModel",
          "state": {
            "_view_name": "HBoxView",
            "_dom_classes": [],
            "_model_name": "HBoxModel",
            "_view_module": "@jupyter-widgets/controls",
            "_model_module_version": "1.5.0",
            "_view_count": null,
            "_view_module_version": "1.5.0",
            "box_style": "",
            "layout": "IPY_MODEL_d82ec17589be4d16bbcb235453ad809f",
            "_model_module": "@jupyter-widgets/controls",
            "children": [
              "IPY_MODEL_56e2c680d8b0426b93d1f24b6cebf4c1",
              "IPY_MODEL_fae863336c214b79a9a5f2848f23e688"
            ]
          }
        },
        "d82ec17589be4d16bbcb235453ad809f": {
          "model_module": "@jupyter-widgets/base",
          "model_name": "LayoutModel",
          "state": {
            "_view_name": "LayoutView",
            "grid_template_rows": null,
            "right": null,
            "justify_content": null,
            "_view_module": "@jupyter-widgets/base",
            "overflow": null,
            "_model_module_version": "1.2.0",
            "_view_count": null,
            "flex_flow": null,
            "width": null,
            "min_width": null,
            "border": null,
            "align_items": null,
            "bottom": null,
            "_model_module": "@jupyter-widgets/base",
            "top": null,
            "grid_column": null,
            "overflow_y": null,
            "overflow_x": null,
            "grid_auto_flow": null,
            "grid_area": null,
            "grid_template_columns": null,
            "flex": null,
            "_model_name": "LayoutModel",
            "justify_items": null,
            "grid_row": null,
            "max_height": null,
            "align_content": null,
            "visibility": null,
            "align_self": null,
            "height": null,
            "min_height": null,
            "padding": null,
            "grid_auto_rows": null,
            "grid_gap": null,
            "max_width": null,
            "order": null,
            "_view_module_version": "1.2.0",
            "grid_template_areas": null,
            "object_position": null,
            "object_fit": null,
            "grid_auto_columns": null,
            "margin": null,
            "display": null,
            "left": null
          }
        },
        "56e2c680d8b0426b93d1f24b6cebf4c1": {
          "model_module": "@jupyter-widgets/controls",
          "model_name": "FloatProgressModel",
          "state": {
            "_view_name": "ProgressView",
            "style": "IPY_MODEL_94d44a267ad340c5a09b1fc70154b25f",
            "_dom_classes": [],
            "description": "100%",
            "_model_name": "FloatProgressModel",
            "bar_style": "success",
            "max": 57365526,
            "_view_module": "@jupyter-widgets/controls",
            "_model_module_version": "1.5.0",
            "value": 57365526,
            "_view_count": null,
            "_view_module_version": "1.5.0",
            "orientation": "horizontal",
            "min": 0,
            "description_tooltip": null,
            "_model_module": "@jupyter-widgets/controls",
            "layout": "IPY_MODEL_1a0e87b11f7f48199a67dd998743f4af"
          }
        },
        "fae863336c214b79a9a5f2848f23e688": {
          "model_module": "@jupyter-widgets/controls",
          "model_name": "HTMLModel",
          "state": {
            "_view_name": "HTMLView",
            "style": "IPY_MODEL_ecc8a7bf7de84dc59b9a84ba4f7425cb",
            "_dom_classes": [],
            "description": "",
            "_model_name": "HTMLModel",
            "placeholder": "​",
            "_view_module": "@jupyter-widgets/controls",
            "_model_module_version": "1.5.0",
            "value": " 54.7M/54.7M [00:00&lt;00:00, 64.0MB/s]",
            "_view_count": null,
            "_view_module_version": "1.5.0",
            "description_tooltip": null,
            "_model_module": "@jupyter-widgets/controls",
            "layout": "IPY_MODEL_4b194fb884cf4e78bbb82eded4634ca3"
          }
        },
        "94d44a267ad340c5a09b1fc70154b25f": {
          "model_module": "@jupyter-widgets/controls",
          "model_name": "ProgressStyleModel",
          "state": {
            "_view_name": "StyleView",
            "_model_name": "ProgressStyleModel",
            "description_width": "initial",
            "_view_module": "@jupyter-widgets/base",
            "_model_module_version": "1.5.0",
            "_view_count": null,
            "_view_module_version": "1.2.0",
            "bar_color": null,
            "_model_module": "@jupyter-widgets/controls"
          }
        },
        "1a0e87b11f7f48199a67dd998743f4af": {
          "model_module": "@jupyter-widgets/base",
          "model_name": "LayoutModel",
          "state": {
            "_view_name": "LayoutView",
            "grid_template_rows": null,
            "right": null,
            "justify_content": null,
            "_view_module": "@jupyter-widgets/base",
            "overflow": null,
            "_model_module_version": "1.2.0",
            "_view_count": null,
            "flex_flow": null,
            "width": null,
            "min_width": null,
            "border": null,
            "align_items": null,
            "bottom": null,
            "_model_module": "@jupyter-widgets/base",
            "top": null,
            "grid_column": null,
            "overflow_y": null,
            "overflow_x": null,
            "grid_auto_flow": null,
            "grid_area": null,
            "grid_template_columns": null,
            "flex": null,
            "_model_name": "LayoutModel",
            "justify_items": null,
            "grid_row": null,
            "max_height": null,
            "align_content": null,
            "visibility": null,
            "align_self": null,
            "height": null,
            "min_height": null,
            "padding": null,
            "grid_auto_rows": null,
            "grid_gap": null,
            "max_width": null,
            "order": null,
            "_view_module_version": "1.2.0",
            "grid_template_areas": null,
            "object_position": null,
            "object_fit": null,
            "grid_auto_columns": null,
            "margin": null,
            "display": null,
            "left": null
          }
        },
        "ecc8a7bf7de84dc59b9a84ba4f7425cb": {
          "model_module": "@jupyter-widgets/controls",
          "model_name": "DescriptionStyleModel",
          "state": {
            "_view_name": "StyleView",
            "_model_name": "DescriptionStyleModel",
            "description_width": "",
            "_view_module": "@jupyter-widgets/base",
            "_model_module_version": "1.5.0",
            "_view_count": null,
            "_view_module_version": "1.2.0",
            "_model_module": "@jupyter-widgets/controls"
          }
        },
        "4b194fb884cf4e78bbb82eded4634ca3": {
          "model_module": "@jupyter-widgets/base",
          "model_name": "LayoutModel",
          "state": {
            "_view_name": "LayoutView",
            "grid_template_rows": null,
            "right": null,
            "justify_content": null,
            "_view_module": "@jupyter-widgets/base",
            "overflow": null,
            "_model_module_version": "1.2.0",
            "_view_count": null,
            "flex_flow": null,
            "width": null,
            "min_width": null,
            "border": null,
            "align_items": null,
            "bottom": null,
            "_model_module": "@jupyter-widgets/base",
            "top": null,
            "grid_column": null,
            "overflow_y": null,
            "overflow_x": null,
            "grid_auto_flow": null,
            "grid_area": null,
            "grid_template_columns": null,
            "flex": null,
            "_model_name": "LayoutModel",
            "justify_items": null,
            "grid_row": null,
            "max_height": null,
            "align_content": null,
            "visibility": null,
            "align_self": null,
            "height": null,
            "min_height": null,
            "padding": null,
            "grid_auto_rows": null,
            "grid_gap": null,
            "max_width": null,
            "order": null,
            "_view_module_version": "1.2.0",
            "grid_template_areas": null,
            "object_position": null,
            "object_fit": null,
            "grid_auto_columns": null,
            "margin": null,
            "display": null,
            "left": null
          }
        }
      }
    }
  },
  "cells": [
    {
      "cell_type": "code",
      "metadata": {
        "id": "H_tJ1HPqYnfi",
        "colab": {
          "base_uri": "https://localhost:8080/"
        },
        "outputId": "3f7ef33b-5dc4-46b3-b18c-671c04bf353f"
      },
      "source": [
        "# small NYU dataset\n",
        "!gdown --id '1HFAsEQCDUx0UC63Yv5uKE2Z5Z9cKDMV0' --output nyu_data.zip\n",
        "\n",
        "# entire NYU dataset\n",
        "# !gdown --id '1c9XQ_lJYFPROTJWdWxW5ZWm2zlxNEjFS' --output nyu_data.zip"
      ],
      "execution_count": 1,
      "outputs": [
        {
          "output_type": "stream",
          "text": [
            "Downloading...\n",
            "From: https://drive.google.com/uc?id=1HFAsEQCDUx0UC63Yv5uKE2Z5Z9cKDMV0\n",
            "To: /content/nyu_data.zip\n",
            "454MB [00:01, 238MB/s]\n"
          ],
          "name": "stdout"
        }
      ]
    },
    {
      "cell_type": "markdown",
      "metadata": {
        "id": "MxR9wjNLY2gb"
      },
      "source": [
        "data"
      ]
    },
    {
      "cell_type": "code",
      "metadata": {
        "id": "Ed_OmwM1Yu-l"
      },
      "source": [
        "import numpy as np\n",
        "import torch\n",
        "import random\n",
        "\n",
        "from torch.utils.data import Dataset, DataLoader\n",
        "from PIL import Image\n",
        "from io import BytesIO\n",
        "from zipfile import ZipFile\n",
        "\n",
        "# the following block, loadZipFile, is from the block named loadZipToMem in data.py\n",
        "# that can be download from https://github.com/ialhashim/DenseDepth/tree/master/PyTorch.\n",
        "def loadZipFile(zip_file):\n",
        "    input_zip = ZipFile('nyu_data.zip')\n",
        "    # extract a file in memory\n",
        "    data = {name: input_zip.read(name) for name in input_zip.namelist()}\n",
        "\n",
        "    # decode the bytes to str while putting one RGB image name and corresponding depth name to one row, and the split them.\n",
        "    # if you plan to train a model on the entire dataset, please use the following code to read names of training samples:\n",
        "    # train_names = list(row.split(',') for row in (data['data/nyu2_train.csv']).decode(\"utf-8\").split('\\n')if len(row) > 0)\n",
        "\n",
        "    # if you plan to train a model on a small dataset, please use the following code to read names of training samples:\n",
        "    train_names = list(row.split(',') for row in (data['data/nyu2_train.csv']).decode(\"utf-8\").split('\\r\\n')if len(row) > 0)\n",
        "    test_names = list(row.split(',') for row in (data['data/nyu2_test.csv']).decode(\"utf-8\").split('\\n')if len(row) > 0)\n",
        "    return data, train_names, test_names\n",
        "\n",
        "\n",
        "\n",
        "class NYU_TrainAugmentDataset(Dataset):\n",
        "    def __init__(self, data, nyu2, transform=None):\n",
        "        self.data, self.nyu_dataset = data, nyu2\n",
        "        # the depth range from 0.1m to 10m.\n",
        "        self.minDepth = 10\n",
        "        self.maxDepth = 1000\n",
        "\n",
        "    def __getitem__(self, idx):\n",
        "        # sample is a list containing names of a RGB image and corresponding depth image\n",
        "        sample = self.nyu_dataset[idx]\n",
        "        # PIL.Image.open() Opens and identifies the given image file.\n",
        "        image = Image.open( BytesIO(self.data[sample[0]]) )\n",
        "        depth = Image.open( BytesIO(self.data[sample[1]]) )\n",
        "        # Augmentation: random horizontal flip\n",
        "        if random.random() < 0.5:\n",
        "            image = image.transpose(Image.FLIP_LEFT_RIGHT)\n",
        "            depth = depth.transpose(Image.FLIP_LEFT_RIGHT)\n",
        "        # resize the depth ground truth from (640,480) to (320,240) that is consist with the size of the predicted output.\n",
        "        depth = depth.resize((320, 240))\n",
        "        \n",
        "        # go from Numpy’s arrays to PyTorch’s tensors\n",
        "        # reshape to (H x W x C)\n",
        "        # normalize image and depth to [0,1], and then multiply all elements in depth by 1000\n",
        "        # put all elements in RGB image into the range [0, 1]; put all elements in depth into the range [10, 1000]\n",
        "        # change the dimensions of the tensor to (C x H x W) that meets the size requirement of input in CNN.\n",
        "        image = torch.clamp(torch.from_numpy(np.array(image).reshape(480,640,3))/255,0,1).permute(2, 0, 1)\n",
        "        depth = torch.clamp(torch.from_numpy(np.array(depth).reshape(240,320,1))/255*self.maxDepth, self.minDepth, self.maxDepth).permute(2, 0, 1)\n",
        "        # depth normalization\n",
        "        depth = self.maxDepth/depth\n",
        "        sample = {'image': image, 'depth': depth}\n",
        "        return sample\n",
        "\n",
        "    def __len__(self):\n",
        "        return len(self.nyu_dataset)\n",
        "\n",
        "class NYU_TestDataset(Dataset):\n",
        "    def __init__(self, data, nyu2, transform=None):\n",
        "        self.data, self.nyu_dataset = data, nyu2\n",
        "        # the depth range from 0.1m to 10m.\n",
        "        self.minDepth = 10\n",
        "        self.maxDepth = 1000\n",
        "\n",
        "    def __getitem__(self, idx):\n",
        "        # sample is a list containing names of a RGB image and corresponding depth image\n",
        "        sample = self.nyu_dataset[idx]\n",
        "        # PIL.Image.open() Opens and identifies the given image file.\n",
        "        image = Image.open( BytesIO(self.data[sample[0]]) )\n",
        "        depth = Image.open( BytesIO(self.data[sample[1]]) )\n",
        "        # resize the depth ground truth from (640,480) to (320,240)\n",
        "        depth = depth.resize((320, 240))\n",
        "    \n",
        "        # go from Numpy’s arrays to PyTorch’s tensors\n",
        "        # reshape to (W x H x W)\n",
        "        # normalize image and depth to [0,1], and then divide all elements in depth by 10\n",
        "        # put all elements in RGB image into the range [0, 1]; put all elements in depth into the range [10, 1000]\n",
        "        # change the dimensions of the tensor to (C x H x W) that meets the size requirement of input in CNN.\n",
        "        image = torch.clamp(torch.from_numpy(np.asarray(image).reshape(480,640,3))/255,0,1).permute(2, 0, 1)\n",
        "        depth = torch.clamp(torch.from_numpy(np.asarray(depth).reshape(240,320,1))/10, self.minDepth, self.maxDepth).permute(2, 0, 1)\n",
        "        # depth normalization\n",
        "        depth = self.maxDepth/depth\n",
        "        sample = {'image': image, 'depth': depth}\n",
        "        return sample\n",
        "\n",
        "    def __len__(self):\n",
        "        return len(self.nyu_dataset)"
      ],
      "execution_count": 2,
      "outputs": []
    },
    {
      "cell_type": "markdown",
      "metadata": {
        "id": "gU0nYRvOY7UA"
      },
      "source": [
        "loss"
      ]
    },
    {
      "cell_type": "code",
      "metadata": {
        "id": "bej9HlbXO9cn"
      },
      "source": [
        "import torch\n",
        "import torch.nn.functional as func\n",
        "from math import exp\n",
        "\n",
        "#Ldepth(y, ŷ)\n",
        "def l1_criterion(y_pred,y_true):\n",
        "  #compute point-wise L1 loss\n",
        "  l_depth = torch.mean(torch.abs(y_pred - y_true))\n",
        "  return l_depth\n",
        "\n",
        "#Lgrad(y, ŷ)\n",
        "def image_gradients(image):\n",
        "  #compute image gradient loss\n",
        "  left = image\n",
        "  right = func.pad(image,[0, 1, 0, 0])[:, :, :, 1:]\n",
        "  top = image\n",
        "  bottom = func.pad(image, [0, 0, 0, 1])[:, :, 1:, :]\n",
        "\n",
        "  dx = right - left\n",
        "  dy = bottom - top\n",
        "  dx[:, :, :, -1] = 0\n",
        "  dy[:, :, -1, :] = 0\n",
        "\n",
        "  return dx,dy\n",
        "\n",
        "#LSSIM (y, ŷ)\n",
        "#Structural similarity index is a method for predicting similarity of two images\n",
        "#An image quality metric that assesses the visual impact of three characteristics of an image: luminance, contrast and structure.\n",
        "def gaussian(window_size, sigma):\n",
        "  # Calculate the one-dimensional Gaussian distribution vector\n",
        "  def gauss(point):\n",
        "    return -(point - (window_size // 2))**2 / float(2 * sigma**2)\n",
        "  gauss = torch.Tensor([exp(gauss(point)) for point in range(window_size)])\n",
        "  return gauss / gauss.sum()\n",
        "\n",
        "def create_window(window_size, channel=1):\n",
        "  # Create a Gaussian kernel, obtained by matrix multiplication of two one-dimensional Gaussian distribution vectors\n",
        "  gaussian_kernel1d = gaussian(window_size, 1.5).unsqueeze(1) # Returns a new tensor with a dimension of size one inserted at the specified position.\n",
        "  gaussian_kernel2d = gaussian_kernel1d.mm(gaussian_kernel1d.t()).float().unsqueeze(0).unsqueeze(0)\n",
        "  window = gaussian_kernel2d.expand(channel, 1, window_size, window_size).contiguous()\n",
        "  return window\n",
        "\n",
        "def ssim(y_pred, y_true, data_range=None, window=None, size_average=True, full=False):\n",
        "  #If the data is not provided use max and min value from image to calculate data range\n",
        "  if data_range is None:\n",
        "    if torch.max(y_pred) > 128:\n",
        "      max_point = 255\n",
        "    else:\n",
        "      max_point = 1\n",
        "\n",
        "    if torch.min(y_pred) < -0.5:\n",
        "      min_point = -1\n",
        "    else:\n",
        "      min_point = 0\n",
        "    data_range = max_point - min_point\n",
        "\n",
        "\n",
        "    #get parameter from image\n",
        "    (_, channel, height, width) = y_pred.size()\n",
        "    #window_size is 11 by default\n",
        "    default_window_size=11\n",
        "\n",
        "    if window is None:\n",
        "        realWindowsize = min(default_window_size, height, width)\n",
        "        window = create_window(realWindowsize, channel=channel).to(y_pred.device)\n",
        "\n",
        "    #The formula Var(X)=E[X^2]-E[X]^2, cov(X,Y)=E[XY]-E[X]E[Y] is used when calculating variance and covariance .    \n",
        "    #mu_x the average of x\n",
        "    mu_x = func.conv2d(y_pred, window, padding=0, groups=channel)\n",
        "    #mu_y the average of y\n",
        "    mu_y = func.conv2d(y_true, window, padding=0, groups=channel)\n",
        "    #sigma_xy the covariance of x and y\n",
        "    Sigma_xy = func.conv2d(y_pred * y_true, window, padding=0, groups=channel) - (mu_x * mu_x) * (mu_y * mu_y)\n",
        "\n",
        "    #K1 = 0.01 and k2 = 0.03 by default\n",
        "    K1 = 0.01\n",
        "    K2 = 0.03\n",
        "    #C1 and C2 two variables to stabilize the division with weak denominator\n",
        "    ##L is the dynamic range of the pixel-values which either provided by user or calculate from before\n",
        "    C1 = (K1 * data_range) ** 2\n",
        "    C2 = (K2 * data_range) ** 2\n",
        "\n",
        "    Denominator = (2 * mu_x * mu_y + C1) * (2 * Sigma_xy + C2)\n",
        "    #sigma_x^2 is the variance of x\n",
        "    Sigma_x_sq = func.conv2d(y_pred * y_pred, window, padding=0, groups=channel) - mu_x * mu_x\n",
        "    #sigma_y^2 is the variance of y\n",
        "    Sigma_y_sq = func.conv2d(y_true * y_true, window, padding=0, groups=channel) - mu_y * mu_y\n",
        "\n",
        "    Numerator = (mu_x * mu_x + C1) *(Sigma_x_sq + Sigma_y_sq + C2)\n",
        "\n",
        "    ssim_map = Denominator / Numerator\n",
        "\n",
        "    if size_average:\n",
        "        ret = ssim_map.mean()\n",
        "    else:\n",
        "        ret = ssim_map.mean(1).mean(1).mean(1)\n",
        "\n",
        "    if full:\n",
        "        return ret, cs\n",
        "\n",
        "    return ret\n",
        "\n",
        "def depth_loss(y_pred, y_true):\n",
        "  #Ldepth(y, ŷ)\n",
        "  l_depth = l1_criterion(y_pred, y_true)\n",
        "  #Lgrad(y, ŷ)\n",
        "  dx_true, dy_true = image_gradients(y_true)\n",
        "  dx_pred, dy_pred = image_gradients(y_pred)\n",
        "  l_edges = torch.mean(torch.abs(dy_pred - dy_true) + torch.abs(dx_pred - dx_true))\n",
        "  #LSSIM (y, ŷ)\n",
        "  l_ssim = torch.clamp((1 - ssim(y_pred, y_true)) * 0.5, 0, 1)\n",
        "\n",
        "  #loss \n",
        "  w1 = 0.1\n",
        "  w2 = 1.0\n",
        "  w3 = 1.0\n",
        "  loss= (w1 * l_depth) + (w2 * l_edges) + (w3 * l_ssim)\n",
        "  return loss"
      ],
      "execution_count": 3,
      "outputs": []
    },
    {
      "cell_type": "markdown",
      "metadata": {
        "id": "kgIwXFXUY-uC"
      },
      "source": [
        "model"
      ]
    },
    {
      "cell_type": "code",
      "metadata": {
        "id": "T7YIPxixY_fI"
      },
      "source": [
        "import torch\n",
        "import torch.nn as nn\n",
        "from torchvision import models\n",
        "import torch.nn.functional as F\n",
        "\n",
        "class UpSample(nn.Sequential):\n",
        "    def __init__(self, skip_input, output_features):\n",
        "        super(UpSample, self).__init__()        \n",
        "        self.convA = nn.Conv2d(skip_input, output_features, kernel_size=3, stride=1, padding=1)\n",
        "        self.leakyreluA = nn.LeakyReLU(0.2)\n",
        "        self.convB = nn.Conv2d(output_features, output_features, kernel_size=3, stride=1, padding=1)\n",
        "        self.leakyreluB = nn.LeakyReLU(0.2)\n",
        "\n",
        "    def forward(self, x, concat_with):\n",
        "        up_x = F.interpolate(x, size=[concat_with.size(2), concat_with.size(3)], mode='bilinear', align_corners=True)\n",
        "        return self.leakyreluB( self.convB( self.leakyreluA(self.convA( torch.cat([up_x, concat_with], dim=1)  ) )))\n",
        "        # return self.leakyreluB( self.convB( self.convA( torch.cat([up_x, concat_with], dim=1)  ) )  )\n",
        "\n",
        "class Decoder(nn.Module):\n",
        "    def __init__(self, num_features=1664, decoder_width = 1.0):\n",
        "        super(Decoder, self).__init__()\n",
        "        features = int(num_features * decoder_width)\n",
        "\n",
        "        self.conv2 = nn.Conv2d(num_features, features, kernel_size=1, stride=1, padding=0)\n",
        "\n",
        "        self.up1 = UpSample(skip_input=features//1 + 256, output_features=features//2)\n",
        "        self.up2 = UpSample(skip_input=features//2 + 128,  output_features=features//4)\n",
        "        self.up3 = UpSample(skip_input=features//4 + 64,  output_features=features//8)\n",
        "        self.up4 = UpSample(skip_input=features//8 + 64,  output_features=features//16)\n",
        "\n",
        "        self.conv3 = nn.Conv2d(features//16, 1, kernel_size=3, stride=1, padding=1)\n",
        "\n",
        "    def forward(self, features):\n",
        "        x_block0, x_block1, x_block2, x_block3, x_block4 = features[3], features[4], features[6], features[8], features[12]\n",
        "        x_d0 = self.conv2(F.relu(x_block4))\n",
        "\n",
        "        x_d1 = self.up1(x_d0, x_block3)\n",
        "        x_d2 = self.up2(x_d1, x_block2)\n",
        "        x_d3 = self.up3(x_d2, x_block1)\n",
        "        x_d4 = self.up4(x_d3, x_block0)\n",
        "        return self.conv3(x_d4)\n",
        "\n",
        "class Encoder(nn.Module):\n",
        "    def __init__(self):\n",
        "        super(Encoder, self).__init__()\n",
        "        # pretrained (bool): If True, returns a model pre-trained on ImageNet\n",
        "        self.original_model = models.densenet169( pretrained=True )\n",
        "\n",
        "    def forward(self, x):\n",
        "        features = [x]\n",
        "        for k, v in self.original_model.features._modules.items(): features.append( v(features[-1]) )\n",
        "        return features\n",
        "\n",
        "class DepthModel(nn.Module):\n",
        "    def __init__(self):\n",
        "        super(DepthModel, self).__init__()\n",
        "        self.encoder = Encoder()\n",
        "        self.decoder = Decoder()\n",
        "\n",
        "    def forward(self, x):\n",
        "        return self.decoder( self.encoder(x) )"
      ],
      "execution_count": 4,
      "outputs": []
    },
    {
      "cell_type": "markdown",
      "metadata": {
        "id": "dIXmvwLiZDlw"
      },
      "source": [
        "train"
      ]
    },
    {
      "cell_type": "code",
      "metadata": {
        "id": "q-QC2g4sZEXU",
        "colab": {
          "base_uri": "https://localhost:8080/",
          "height": 1000,
          "referenced_widgets": [
            "af6bcc47bcc544d09a17bc1ed50bf28d",
            "d82ec17589be4d16bbcb235453ad809f",
            "56e2c680d8b0426b93d1f24b6cebf4c1",
            "fae863336c214b79a9a5f2848f23e688",
            "94d44a267ad340c5a09b1fc70154b25f",
            "1a0e87b11f7f48199a67dd998743f4af",
            "ecc8a7bf7de84dc59b9a84ba4f7425cb",
            "4b194fb884cf4e78bbb82eded4634ca3"
          ]
        },
        "outputId": "c9c3716e-899e-4e1d-82b6-4a54635ef14a"
      },
      "source": [
        "import time\n",
        "import torch\n",
        "import torch.nn as nn\n",
        "import matplotlib.pyplot as plt\n",
        "\n",
        "def main():\n",
        "    # send the tensor to GPU if you have a GPU; otherwise, send the tensor to CPU\n",
        "    device = torch.device('cuda' if torch.cuda.is_available() else 'cpu')\n",
        "    # Create model\n",
        "    model = DepthModel().to(device)\n",
        "    \n",
        "    # set batch size and the numer of epoches\n",
        "    batch_size = 4\n",
        "    num_epoch = 3\n",
        "    \n",
        "    # Adam optimizer with learning rate of 0.0001\n",
        "    optimizer = torch.optim.Adam( model.parameters(), lr=0.0001 )\n",
        "\n",
        "    # load train and test datasets\n",
        "    data, train_names, test_names = loadZipFile('nyu_data.zip')\n",
        "    # a list of tuples, each tuple corrresponding to one RGB tensor and depth ground truth tensor.\n",
        "    train_set = NYU_TrainAugmentDataset(data, train_names)\n",
        "    test_set = NYU_TestDataset(data, test_names)\n",
        "    # slice the dataset to mini-batches, each one mini-batch can be sent to a loop.\n",
        "    train_loader = DataLoader(train_set, batch_size, shuffle=True)\n",
        "    test_loader = DataLoader(test_set, batch_size, shuffle=False)\n",
        "\n",
        "    # Start training...\n",
        "    for epoch in range(num_epoch):\n",
        "        epoch_start_time = time.time()\n",
        "        train_loss = 0.0\n",
        "        test_loss = 0.0\n",
        "        \n",
        "        # Switch to train mode\n",
        "        model.train()\n",
        "        for i, sample_batched in enumerate(train_loader):\n",
        "            # zero the gradients\n",
        "            optimizer.zero_grad()\n",
        "            # Prepare RGB sample and corresponding depth ground truth, and send only one batch to the device.\n",
        "            train_image = torch.autograd.Variable(sample_batched['image'].to(device))\n",
        "            train_depth = torch.autograd.Variable(sample_batched['depth'].to(device))\n",
        "            # Predict depth\n",
        "            train_output = model(train_image)\n",
        "            # Compute the loss between the prediction and the ground truth\n",
        "            batch_loss = depth_loss(train_output, train_depth)\n",
        "            # auto-compute all gradients \n",
        "            batch_loss.backward()\n",
        "            # update the parameters of the model using the computed gradients\n",
        "            optimizer.step()\n",
        "            \n",
        "            # accumulate loss\n",
        "            train_loss += batch_loss.item()\n",
        "            \n",
        "            # display information about running speed and batch loss\n",
        "            if i % 10 == 0:\n",
        "                print('Epoch [{}/{}][{}/{}], {:.2f} sec(s), Batch loss:{:.5f} (Avg:{:.5f})'\n",
        "                  .format(epoch+1, num_epoch, i+1, train_loader.__len__(), (time.time()-epoch_start_time)*10/(i+1), batch_loss, train_loss/(i+1)))\n",
        "        \n",
        "        \n",
        "        # switch to test mode \n",
        "        model.eval()\n",
        "        # disable any gradient calculation\n",
        "        with torch.no_grad():\n",
        "            for i, sample_batched in enumerate(test_loader):\n",
        "                # prepare test dataset\n",
        "                test_image = torch.autograd.Variable(sample_batched['image'].to(device))\n",
        "                test_depth = torch.autograd.Variable(sample_batched['depth'].to(device))\n",
        "                # predict\n",
        "                test_output = model(test_image)\n",
        "                # loss\n",
        "                batch_loss = depth_loss(test_output, test_depth)\n",
        "                \n",
        "                # accumulate loss\n",
        "                test_loss += batch_loss.item()\n",
        "                \n",
        "                \n",
        "                # display the depth prediction of last RGB image in test dataset\n",
        "                if i == len(test_loader)-1:\n",
        "                    # change the dimensions of the output tensor from (N x C x H x W) to (N x H x W x C)\n",
        "                    output_depth = test_output.permute(0, 2, 3, 1)\n",
        "                    # removes all dimensions with a length of one from tensor, it will return a tensor with the size of (H x W)\n",
        "                    # transfer from tensor to numpy after removing gradients using torch.detach()\n",
        "                    # output_depth = torch.squeeze(output_depth[-1]).detach().numpy()\n",
        "                    output_depth = torch.squeeze(output_depth[-1]).cpu().numpy()\n",
        "                    plt.imshow( output_depth, cmap='plasma' )\n",
        "                    plt.show()\n",
        "            \n",
        "            # display information about running speed of one epoch and batch loss\n",
        "            print('Epoch [{}/{}], {:.2f} sec(s), Avg Train loss:{:.5f}, Avg Test loss:{:.5f}'\n",
        "                  .format(epoch+1, num_epoch, time.time()-epoch_start_time, train_loss/train_set.__len__(), test_loss/test_set.__len__()))\n",
        "            \n",
        "        \n",
        "    # save model's parameters\n",
        "    path = 'nyusmall_para.pt'\n",
        "    torch.save(model.state_dict(), path)\n",
        "\n",
        "if __name__ == '__main__':\n",
        "    main()"
      ],
      "execution_count": 5,
      "outputs": [
        {
          "output_type": "stream",
          "text": [
            "Downloading: \"https://download.pytorch.org/models/densenet169-b2777c0a.pth\" to /root/.cache/torch/hub/checkpoints/densenet169-b2777c0a.pth\n"
          ],
          "name": "stderr"
        },
        {
          "output_type": "display_data",
          "data": {
            "application/vnd.jupyter.widget-view+json": {
              "model_id": "af6bcc47bcc544d09a17bc1ed50bf28d",
              "version_minor": 0,
              "version_major": 2
            },
            "text/plain": [
              "HBox(children=(FloatProgress(value=0.0, max=57365526.0), HTML(value='')))"
            ]
          },
          "metadata": {
            "tags": []
          }
        },
        {
          "output_type": "stream",
          "text": [
            "\n"
          ],
          "name": "stdout"
        },
        {
          "output_type": "stream",
          "text": [
            "/usr/local/lib/python3.7/dist-packages/torch/nn/functional.py:718: UserWarning: Named tensors and all their associated APIs are an experimental feature and subject to change. Please do not use them for anything important until they are released as stable. (Triggered internally at  /pytorch/c10/core/TensorImpl.h:1156.)\n",
            "  return torch.max_pool2d(input, kernel_size, stride, padding, dilation, ceil_mode)\n"
          ],
          "name": "stderr"
        },
        {
          "output_type": "stream",
          "text": [
            "Epoch [1/3][1/43], 11.65 sec(s), Batch loss:0.46505 (Avg:0.46505)\n",
            "Epoch [1/3][11/43], 8.75 sec(s), Batch loss:1.38449 (Avg:1.10723)\n",
            "Epoch [1/3][21/43], 8.68 sec(s), Batch loss:1.20593 (Avg:1.18394)\n",
            "Epoch [1/3][31/43], 8.69 sec(s), Batch loss:1.18880 (Avg:1.18993)\n",
            "Epoch [1/3][41/43], 8.74 sec(s), Batch loss:1.16293 (Avg:1.19240)\n"
          ],
          "name": "stdout"
        },
        {
          "output_type": "stream",
          "text": [
            "/usr/local/lib/python3.7/dist-packages/ipykernel_launcher.py:84: UserWarning: The given NumPy array is not writeable, and PyTorch does not support non-writeable tensors. This means you can write to the underlying (supposedly non-writeable) NumPy array using the tensor. You may want to copy the array to protect its data or make it writeable before converting it to a tensor. This type of warning will be suppressed for the rest of this program. (Triggered internally at  /pytorch/torch/csrc/utils/tensor_numpy.cpp:180.)\n"
          ],
          "name": "stderr"
        },
        {
          "output_type": "display_data",
          "data": {
            "image/png": "[encoded data removed]",
            "text/plain": [
              "<Figure size 432x288 with 1 Axes>"
            ]
          },
          "metadata": {
            "tags": [],
            "needs_background": "light"
          }
        },
        {
          "output_type": "stream",
          "text": [
            "Epoch [1/3], 100.75 sec(s), Avg Train loss:0.30025, Avg Test loss:0.32590\n",
            "Epoch [2/3][1/43], 8.76 sec(s), Batch loss:1.24061 (Avg:1.24061)\n",
            "Epoch [2/3][11/43], 8.73 sec(s), Batch loss:1.17234 (Avg:1.19307)\n",
            "Epoch [2/3][21/43], 8.77 sec(s), Batch loss:1.17704 (Avg:1.19154)\n",
            "Epoch [2/3][31/43], 8.77 sec(s), Batch loss:1.16289 (Avg:1.18427)\n",
            "Epoch [2/3][41/43], 8.77 sec(s), Batch loss:1.16173 (Avg:1.17915)\n"
          ],
          "name": "stdout"
        },
        {
          "output_type": "display_data",
          "data": {
            "image/png": "[encoded data removed]",
            "text/plain": [
              "<Figure size 432x288 with 1 Axes>"
            ]
          },
          "metadata": {
            "tags": [],
            "needs_background": "light"
          }
        },
        {
          "output_type": "stream",
          "text": [
            "Epoch [2/3], 100.44 sec(s), Avg Train loss:0.29660, Avg Test loss:0.31387\n",
            "Epoch [3/3][1/43], 8.80 sec(s), Batch loss:1.19694 (Avg:1.19694)\n",
            "Epoch [3/3][11/43], 8.73 sec(s), Batch loss:1.14536 (Avg:1.16358)\n",
            "Epoch [3/3][21/43], 8.75 sec(s), Batch loss:1.16868 (Avg:1.15866)\n",
            "Epoch [3/3][31/43], 8.75 sec(s), Batch loss:1.14909 (Avg:1.15590)\n",
            "Epoch [3/3][41/43], 8.75 sec(s), Batch loss:1.14438 (Avg:1.15410)\n"
          ],
          "name": "stdout"
        },
        {
          "output_type": "display_data",
          "data": {
            "image/png": "[encoded data removed]",
            "text/plain": [
              "<Figure size 432x288 with 1 Axes>"
            ]
          },
          "metadata": {
            "tags": [],
            "needs_background": "light"
          }
        },
        {
          "output_type": "stream",
          "text": [
            "Epoch [3/3], 100.33 sec(s), Avg Train loss:0.28988, Avg Test loss:0.30805\n"
          ],
          "name": "stdout"
        }
      ]
    }
  ]
}